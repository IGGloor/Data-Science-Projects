{
 "cells": [
  {
   "cell_type": "markdown",
   "metadata": {
    "id": "zTMqss9QlpKl"
   },
   "source": [
    "# Capstone Project: Slogan Classifier and Generator\n",
    "\n",
    "In this capstone project you will train a Long Short-Term Memory (LSTM) model to generate slogans for businesses based on their industry, and also train a classifier to predict the industry based on a given slogan."
   ]
  },
  {
   "cell_type": "markdown",
   "metadata": {
    "id": "R11lkWvYvXC-"
   },
   "source": [
    "##Libraries\n",
    "We recommend running this notebook using [Google Colab](https://colab.google/) however if you choose to use your local machine you will need to install spaCy before starting.\n",
    "\n",
    "To install spaCy, refer to the installation instructions provided on the spaCy [website](https://spacy.io/usage). Note you may need to install an older version of Python that is compatible with spaCy. You can create a virtual environment for this project to install the specific version of Python that you need."
   ]
  },
  {
   "cell_type": "code",
   "execution_count": null,
   "metadata": {
    "id": "XU54-5mpnujt"
   },
   "outputs": [],
   "source": [
    "import pandas as pd\n",
    "import numpy as np\n",
    "import tensorflow as tf\n",
    "from tensorflow.keras.preprocessing.text import Tokenizer\n",
    "from tensorflow.keras.preprocessing.sequence import pad_sequences\n",
    "from tensorflow.keras.models import Sequential\n",
    "from tensorflow.keras.layers import Embedding, LSTM, Dense\n",
    "from tensorflow.keras.optimizers import Adam\n",
    "import spacy # available on Google Colab\n",
    "from sklearn.model_selection import train_test_split"
   ]
  },
  {
   "cell_type": "markdown",
   "metadata": {
    "id": "aedbu0lBovia"
   },
   "source": [
    "## Loading and viewing the dataset\n",
    "\n",
    "- Load the slogan dataset into a variable called data.\n",
    "- Extract relevant columns in a variable called df.\n",
    "- Handle missing values.\n",
    "\n",
    "Do **not** change the column names.\n",
    "\n",
    "If you are using Google Colab you will need mount your Google Drive as follows:  \n",
    "`from google.colab import drive`  \n",
    "`drive.mount('/content/drive')`  \n",
    "\n",
    "The path you use when loading your data will look something like this if you are using your Google Drive:  \n",
    "\"/content/drive/MyDrive/Colab Notebooks/slogan-valid.csv\""
   ]
  },
  {
   "cell_type": "code",
   "execution_count": null,
   "metadata": {
    "id": "OH39XzGKpTpX"
   },
   "outputs": [],
   "source": [
    "# Load data from your local machine or from your Google Drive\n",
    "# Name your pandas DataFrame 'df'\n"
   ]
  },
  {
   "cell_type": "markdown",
   "metadata": {
    "id": "wj6Whax7nSxQ"
   },
   "source": [
    "## Data Preprocessing\n",
    "\n",
    "Since we are working with textual data, we need software that understands natural language. For this, we'll use a library for processing text called **spaCy**. Using spaCy, we'll break the text into smaller units called tokens that are easier for the machine to process. This process is called **tokenisation**. We'll also convert all text to lowercase and remove punctuation because this information is not necessary for our models. Run the code below, and your dataframe (df) will gain a new column called **'processed_slogan'** which contains the preprocessed text.\n",
    "\n",
    "\n"
   ]
  },
  {
   "cell_type": "code",
   "execution_count": null,
   "metadata": {
    "id": "ZcIWV7IXp9rt"
   },
   "outputs": [],
   "source": [
    "# Load spaCy model for text processing\n",
    "nlp = spacy.load(\"en_core_web_sm\")\n",
    "\n",
    "# Define text preprocessing function\n",
    "def preprocess_text(text):\n",
    "    text_lower = text.lower()\n",
    "    doc = nlp(text_lower)\n",
    "\n",
    "    processed_tokens = []\n",
    "\n",
    "    for token in doc:\n",
    "        if not token.is_punct:\n",
    "            processed_tokens.append(token.text)\n",
    "\n",
    "    return \" \".join(processed_tokens)\n",
    "\n",
    "df[\"processed_slogan\"] = df[\"output\"].apply(preprocess_text)\n",
    "\n",
    "df.head()"
   ]
  },
  {
   "cell_type": "markdown",
   "metadata": {
    "id": "tXpVm-kItirs"
   },
   "source": [
    "We want our model to generate **industry-specific** slogans. If we use the 'processed_slogan' column as it is, we'll be leaving out crucial context - the industries of the companies behind those slogans. To fix this, we'll create a new **'modified_slogan'** column that adds the industry name to the front of processed slogan.  \n",
    "\n",
    "For example:  \n",
    "\n",
    "> industry = 'computer hardware'  \n",
    "processed_slogan = 'taking care of small business technology'  \n",
    "modified_slogan = 'computer hardware taking care of small business technology'\n",
    "\n",
    "Write code in the cell below to achieve this."
   ]
  },
  {
   "cell_type": "code",
   "execution_count": null,
   "metadata": {
    "id": "VLNM3yK7ti6x"
   },
   "outputs": [],
   "source": []
  },
  {
   "cell_type": "markdown",
   "metadata": {
    "id": "_AJyWXVnwyNQ"
   },
   "source": [
    "Now we need to get data to train our model. We have textual data which we will need to represent numerically for our model to learn from it.  \n",
    "The code below does the following:\n",
    "1. Tokenizes a dataset of slogans.\n",
    "2. Converts words to numerical indices.\n",
    "3. Creates input sequences using the numerical indices.  \n",
    "\n",
    "Here's how it works. From the 'modified_slogan' column, we take the slogan \"computer hardware taking care of small business technology\". The tokenisation process will convert words into their corresponding indices:  \n",
    "\n",
    "<center>\n",
    "\n",
    "| Word         | Token Index |\n",
    "|-------------|-------|\n",
    "| \"computer\"  | 1     |\n",
    "| \"hardware\"  | 2     |\n",
    "| \"taking\"    | 3     |\n",
    "| \"care\"      | 4     |\n",
    "| \"of\"        | 5     |\n",
    "| \"small\"     | 6     |\n",
    "| \"business\"  | 7     |\n",
    "| \"technology\"| 8     |\n",
    "\n",
    "</center>\n",
    "\n",
    "So the tokenized list is:\n",
    "\n",
    "<center>\n",
    "[1, 2, 3, 4, 5, 6, 7, 8]\n",
    "</center>\n",
    "\n",
    "When creating input sequences for training, the loop generates progressively longer sequences.\n",
    "\n",
    "<center>\n",
    "\n",
    "| Token Index Sequence               | Corresponding Slogan                                 |\n",
    "|------------------------------|-----------------------------------------------------|\n",
    "| [1, 2]                       | \"computer hardware\"                                |\n",
    "| [1, 2, 3]                    | \"computer hardware taking\"                        |\n",
    "| [1, 2, 3, 4]                 | \"computer hardware taking care\"                   |\n",
    "| [1, 2, 3, 4, 5]              | \"computer hardware taking care of\"                |\n",
    "| [1, 2, 3, 4, 5, 6]           | \"computer hardware taking care of small\"          |\n",
    "| [1, 2, 3, 4, 5, 6, 7]        | \"computer hardware taking care of small business\" |\n",
    "| [1, 2, 3, 4, 5, 6, 7, 8]     | \"computer hardware taking care of small business technology\" |\n",
    "\n",
    "</center>\n",
    "\n",
    "Instead of training the model on only **complete slogans**, we provide partial phrases which will help the model learn how words connect over time. This will make it better at predicting the next word when generating slogans.  \n",
    "\n",
    "Run the cell block below to generate the input sequences. Be sure to read the comments to understand what the code is doing.\n"
   ]
  },
  {
   "cell_type": "code",
   "execution_count": null,
   "metadata": {
    "id": "1Sl1Id28oXgu"
   },
   "outputs": [],
   "source": [
    "'''** Clean up comments'''\n",
    "\n",
    "# Tokenizer to convert words into numerical values tokens\n",
    "tokenizer = Tokenizer()\n",
    "\n",
    "# Tokenizer learns words in dataset\n",
    "tokenizer.fit_on_texts(df[\"modified_slogan\"])\n",
    "\n",
    "# Total number of unique words in learned vocabulary\n",
    "total_words = len(tokenizer.word_index) + 1\n",
    "\n",
    "# Dictionary mapping words to its numerical index: index based on frequency i.e., more freq => lower index\n",
    "tokenizer.word_index\n",
    "\n",
    "# Creating input sequences\n",
    "# Initialise list to store the input sequences\n",
    "input_sequences = []\n",
    "\n",
    "# Iterate over processed slogans\n",
    "for line in df[\"modified_slogan\"]:\n",
    "\n",
    "    # Convert slogans to token sequences\n",
    "    token_list = tokenizer.texts_to_sequences([line])[0] # returns list containing list of words indices; extracting inner list [0]\n",
    "\n",
    "    # token_list is a list of tokenized word INDICES\n",
    "    # Building list of progressively longer input sequences for better training\n",
    "    for i in range(1, len(token_list)):\n",
    "        input_sequences.append(token_list[:i+1])"
   ]
  },
  {
   "cell_type": "markdown",
   "metadata": {
    "id": "8lY8QgnST-MA"
   },
   "source": [
    "The input sequences created above are of **varying lengths**, which will be a problem when training our LSTM model. LSTMs require input sequences of **equal length**. So, we need to **pad** shorter sequences by **prepending zeros** until they match the length of the longest sequence.  \n",
    "\n",
    "For example, if the longest sequence has **10 tokens**, our padded sequences will look like this:\n",
    "\n",
    "<center>\n",
    "\n",
    "| Input Sequence                     | Padded Sequence                         |\n",
    "|-------------------------------------|-----------------------------------------|\n",
    "| [1, 2]                              | [0, 0, 0, 0, 0, 0, 0, 0, 1, 2]         |\n",
    "| [1, 2, 3]                           | [0, 0, 0, 0, 0, 0, 0, 1, 2, 3]         |\n",
    "| [1, 2, 3, 4]                        | [0, 0, 0, 0, 0, 0, 1, 2, 3, 4]         |\n",
    "| [1, 2, 3, 4, 5]                     | [0, 0, 0, 0, 0, 1, 2, 3, 4, 5]         |\n",
    "| [1, 2, 3, 4, 5, 6]                  | [0, 0, 0, 0, 1, 2, 3, 4, 5, 6]         |\n",
    "| [1, 2, 3, 4, 5, 6, 7]               | [0, 0, 0, 1, 2, 3, 4, 5, 6, 7]         |\n",
    "| [1, 2, 3, 4, 5, 6, 7, 8]            | [0, 0, 1, 2, 3, 4, 5, 6, 7, 8]         |\n",
    "\n",
    "</center>\n",
    "\n",
    "In the cell below, write code that **finds the length of the longest sequence** in **input_sequences** and stores this value in a variable named **max_seq_len**.\n"
   ]
  },
  {
   "cell_type": "code",
   "execution_count": null,
   "metadata": {
    "id": "-xqxBtBoT-vF"
   },
   "outputs": [],
   "source": []
  },
  {
   "cell_type": "markdown",
   "metadata": {
    "id": "RGE2b-LsYPBh"
   },
   "source": [
    "Run the cell below to pad the input sequences so they are all the same length as **max_seq_length**."
   ]
  },
  {
   "cell_type": "code",
   "execution_count": null,
   "metadata": {
    "id": "3sRJZGE-YPo8"
   },
   "outputs": [],
   "source": [
    "input_sequences = pad_sequences(input_sequences, maxlen=max_seq_len, padding=\"pre\")"
   ]
  },
  {
   "cell_type": "markdown",
   "metadata": {
    "id": "xv7pgFrdb6_G"
   },
   "source": [
    "## Training Data for Slogan Generator\n",
    "\n",
    "The input sequences generated will be used as our training data. Our LSTM needs to learn how to predict the **next word** in a sequence.  \n",
    "\n",
    "The inputs for our model will be the input sequences **excluding the last token index** and the outputs will be the **last token index**.  \n",
    "\n",
    "As an example, let us use the input sequence [0, 0, 1, 2, 3, 4, 5, 6, 7, 8] and say it corresponds to the slogan \"computer hardware taking care of small business technology\". When training the model:\n",
    "\n",
    "> Our input **x** will be the input sequence [0, 0, 1, 2, 3, 4, 5, 6, 7] corresponding to \"computer hardware taking care of small\".  \n",
    "> Our output **y** will be [8] which corresponds to \"business\".  \n",
    "\n",
    "In the code cell below, use `input_sequences` to create the following two variables:\n",
    "1. **X_gen** which contains the input sequences excluding the last token index.\n",
    "2. **y_gen** which contains the last token index of the input sequence."
   ]
  },
  {
   "cell_type": "code",
   "execution_count": null,
   "metadata": {
    "id": "ARUDFwz9ilkF"
   },
   "outputs": [],
   "source": []
  },
  {
   "cell_type": "markdown",
   "metadata": {
    "id": "XXKjM3KPkUHu"
   },
   "source": [
    "The model will output the next word of a sequence over a probability distribution. We need to encode our output variable for this to be possible.\n",
    "\n",
    "In the code cell below, write code that will apply one-hot encoding to **y_gen** using `tf.keras.utils.to_categorical()`. **Maintain the same variable name**.  \n",
    "\n",
    "*Hint: set the `num_classes` (number of classes) parameter to the total number of unique words in the learned vocabulary. You can access this value through a variable that was created when generating input sequences earlier.*"
   ]
  },
  {
   "cell_type": "code",
   "execution_count": null,
   "metadata": {
    "id": "0FpxfR4rkUTK"
   },
   "outputs": [],
   "source": []
  },
  {
   "cell_type": "markdown",
   "metadata": {
    "id": "TUraZ3Rbn7Az"
   },
   "source": [
    "## Slogan Generator Architecture\n",
    "\n",
    "In the code cell that follows, configure the LSTM following these steps:\n",
    "\n",
    "1. Create a sequential model using `tf.keras.models.Sequential()`. This model will have an embedding layer, two LSTM layers, and a dense output layer.\n",
    "2. Add an embedding layer that converts words into dense vector representations. This layer should:\n",
    "> *   Have `total_words`as the vocabulary size.\n",
    "> *   Use 100 as an embedding dimension.\n",
    "> *   Takes an input length of `max_seq_len - 1` (excludes the target word).\n",
    "3. Add two LSTM layers.\n",
    "> *   The first LSTM layer should have 150 **and** set `return_sequences` to `True`.\n",
    "> *   The second LSTM layer should have 100 units.\n",
    "4. Add a dense output layer which:\n",
    "> *   Uses `total_words` as the number of units (one for each word in the vocabulary).\n",
    "> *   Uses a softmax activation function.\n",
    "5. Use `Sequential` to put everything together in the correct order to complete the architecture of the LSTM model called **gen_model**.\n"
   ]
  },
  {
   "cell_type": "code",
   "execution_count": null,
   "metadata": {
    "id": "0wnqMaqZn7QP"
   },
   "outputs": [],
   "source": []
  },
  {
   "cell_type": "markdown",
   "metadata": {
    "id": "7bBvS8m0rvjW"
   },
   "source": [
    "In the code cell below, compile `gen_model` using `categorical_crossentropy` loss, an Adam optimiser, and an appropriate metric of your choice.\n"
   ]
  },
  {
   "cell_type": "code",
   "execution_count": null,
   "metadata": {
    "id": "Tb6NRsGir6XN"
   },
   "outputs": [],
   "source": []
  },
  {
   "cell_type": "markdown",
   "metadata": {
    "id": "ZwdAZH-ysr9d"
   },
   "source": [
    "## Slogan Generation\n",
    "\n",
    "In the code cell below, fit the compiled model on the inputs and outputs, setting the **number of epochs to 50**."
   ]
  },
  {
   "cell_type": "code",
   "execution_count": null,
   "metadata": {
    "id": "Nkb5HbGCssZg"
   },
   "outputs": [],
   "source": []
  },
  {
   "cell_type": "markdown",
   "metadata": {
    "id": "Ln30w1SovlKy"
   },
   "source": [
    "We will now define a function called `generate_slogan` which will generate a slogan by predicting one word at a time based on a given starting phrase (the `seed_text`). This function will do this using our trained model, `gen_model`.\n",
    "\n",
    "Here is a breakdown of how the algorithm works:  \n",
    "\n",
    "Let us assume the dictionary mapping words to unique indices, `tokenizer.word_index`, looks like this:\n",
    "\n",
    "> `{'computer': 1, 'hardware': 2, 'taking': 3, 'care': 4, 'of': 5}`\n",
    "\n",
    "If the model's predicted index for the next word is 3 (`predicted_index = 3`), the loop will:\n",
    "\n",
    "> Check 'computer' (index 1) → No match  \n",
    "> Check 'hardware' (index 2) → No match  \n",
    "> Check 'taking' (index 3) → Match found!  \n",
    "> Assign output_word = \"taking\" and exit the loop.  \n",
    "\n",
    "The `output_word` will be appended to the `seed_text`, and the process will continue to add words to the `seed_text` until we have reached the maximum number of words **or** an invalid prediction occurs.  \n",
    "\n",
    "Carefully follow the code below and complete the missing parts as guided by the comments."
   ]
  },
  {
   "cell_type": "code",
   "execution_count": null,
   "metadata": {
    "id": "oQzoxk5avlXB"
   },
   "outputs": [],
   "source": [
    "def generate_slogan(seed_text, max_words=20):\n",
    "    for _ in range(max_words):\n",
    "\n",
    "        # Tokenising and padding seed_text\n",
    "        token_list = tokenizer.texts_to_sequences([seed_text])[0]\n",
    "        token_list = pad_sequences([token_list], maxlen=max_seq_len-1, padding=\"pre\")\n",
    "\n",
    "        # Use your trained model (gen_model) on token_list to predict the probability distribution of the next word over the vocabulary\n",
    "        predictions =\n",
    "\n",
    "        # From the predicted probabilities (stored in the variable predictions), identify the word index with the highest probability using np.argmax()\n",
    "        predicted_index =\n",
    "\n",
    "        output_word = None\n",
    "\n",
    "        # Searching for the word that corresponds to the predicted index\n",
    "        for word, index in tokenizer.word_index.items():\n",
    "            if index == predicted_index:\n",
    "                output_word = word\n",
    "                break\n",
    "\n",
    "        # If no valid word is found, algorithm stops\n",
    "        if output_word is None:\n",
    "            break # out of main loop\n",
    "\n",
    "        # If valid a word is found, we append the predicted word to seed_text and continue the process until max_words is reached or an invalid prediction occurs\n",
    "        # Complete the code below to add a word to seed_text\n",
    "        seed_text = ... # or alternatively use addition assignment operator, as below\n",
    "        seed_text += ...\n",
    "\n",
    "    return seed_text"
   ]
  },
  {
   "cell_type": "markdown",
   "metadata": {
    "id": "AHAlDcCtwPlu"
   },
   "source": [
    "## Training Data for Slogan Classifier\n",
    "\n",
    "We will now prepare the data we will use to train our classifier. For our classifier, the inputs will come from the `processed_slogans` column of our DataFrame, `df`. The outputs will be the different industry categories under the `industry` column.\n",
    "\n",
    "In the code cell below, extract the unique values from the `industry` column in the DataFrame and store these in a variable called **industries**."
   ]
  },
  {
   "cell_type": "code",
   "execution_count": null,
   "metadata": {
    "id": "-DHQNp-uwcTL"
   },
   "outputs": [],
   "source": []
  },
  {
   "cell_type": "markdown",
   "metadata": {
    "id": "OVRLAurq0fz0"
   },
   "source": [
    "Create a dictionary called `industry_to_index` where each unique industry is mapped to a unique index starting from 0.\n",
    "\n",
    "*Hint: Use the `enumerate()` function.*"
   ]
  },
  {
   "cell_type": "code",
   "execution_count": null,
   "metadata": {
    "id": "ifWI9iRm0gAQ"
   },
   "outputs": [],
   "source": []
  },
  {
   "cell_type": "markdown",
   "metadata": {
    "id": "pkr04p3g0vzj"
   },
   "source": [
    "Create a new column `industry_index` in your DataFrame by mapping the `industry` column to the indices using the `industry_to_index` dictionary.\n",
    "\n",
    "*Hint: Use the  `map()` function.*"
   ]
  },
  {
   "cell_type": "code",
   "execution_count": null,
   "metadata": {
    "id": "bRT8zwHc0v7F"
   },
   "outputs": [],
   "source": []
  },
  {
   "cell_type": "markdown",
   "metadata": {
    "id": "bICgqYlkCHU2"
   },
   "source": [
    "Split the DataFrame `df` into training and testing sets, setting aside 20% of the data for the test set. Be sure to set the parameter `stratify=df[\"industry_index\"]`. This ensures that both sets have the same proportion of each class (industry) as in the original dataset, resulting in balanced datasets. Call the training DataFrame `df_train` and the testing DataFrame `df_test`."
   ]
  },
  {
   "cell_type": "code",
   "execution_count": null,
   "metadata": {
    "id": "4PdSJ2gYC9Tp"
   },
   "outputs": [],
   "source": []
  },
  {
   "cell_type": "markdown",
   "metadata": {
    "id": "RQ43WVLD3F9t"
   },
   "source": [
    "Our classifier will use padded slogan sequences as inputs, similar to input sequences used for the slogan generator. The difference is we will not use sequences that get progressively longer, but instead we will use **complete slogans**. This is because our classifier does not need to learn how to predict what word comes next. It needs the full context of a slogan to learn how to accurately predict the industry.  \n",
    "\n",
    "The next steps will walk you through how to create these sequences.  "
   ]
  },
  {
   "cell_type": "markdown",
   "metadata": {
    "id": "_4MDmlZ349bC"
   },
   "source": [
    "We previously created and fitted a `Tokenizer` object called `tokenizer` while preparing data for the slogan generator. Now, we will reuse it to convert words into numerical indices.  \n",
    "\n",
    "In the code cell below, use the `texts_to_sequences()` **method** of `tokenizer` to transform the `processed_slogan` column in **both** the `df_train` and `df_test` DataFrames into sequences of numerical indices. Store the results in variables named `X_train` and `X_test`.\n"
   ]
  },
  {
   "cell_type": "code",
   "execution_count": null,
   "metadata": {
    "id": "Ce5ro9jV3GGs"
   },
   "outputs": [],
   "source": []
  },
  {
   "cell_type": "markdown",
   "metadata": {
    "id": "klUEvtcY8DHW"
   },
   "source": [
    "The slogan sequences are of varying lengths. We will need to pad them the same way we did to the input sequences for the slogan generator. The `pad_sequences()` function can ensure the sequences in `slogan_sequences` have the same length.  \n",
    "\n",
    "In the code cell below, use the `pad_sequences()` function to standardise the `slogan_sequences` lengths. Set the `maxlen` parameter to `max_seq_len`, the `padding` parameter to 0, and assign the resulting padded sequences to the same variables, `X_train` and `X_test`."
   ]
  },
  {
   "cell_type": "code",
   "execution_count": null,
   "metadata": {
    "id": "gu30y1hO8DR8"
   },
   "outputs": [],
   "source": []
  },
  {
   "cell_type": "markdown",
   "metadata": {
    "id": "uIpa6O7MANYO"
   },
   "source": [
    "We have successfully created training and testing inputs for our model. Now, we will create the outputs - industry categories.\n",
    "\n",
    " In the code cell that follows, use `tf.keras.utils.to_categorical()` to apply one-hot encoding to the `industry_index` column of **both** `df_train` and `df_test` DataFrames. Assign the results to a variables named `y_train` and `y_test`.\n",
    "\n",
    " *Hint: set the `num_classes` parameter to the total number of industries in the DataFrame. The `industries` variable can be used to find this value.*"
   ]
  },
  {
   "cell_type": "code",
   "execution_count": null,
   "metadata": {
    "id": "oOGzb_8BANpE"
   },
   "outputs": [],
   "source": []
  },
  {
   "cell_type": "markdown",
   "metadata": {
    "id": "QlPKC7v-n7dM"
   },
   "source": [
    "## Slogan Classifier Architecture\n",
    "\n",
    "Configure the LSTM classifier following these steps:  \n",
    "\n",
    "\n",
    "1. Create a Sequential model:  \n",
    "   Use `tf.keras.models.Sequential()` to create a sequential model. This model will consist of an embedding layer, two LSTM layers, and a dense output layer.\n",
    "\n",
    "2. Add an embedding layer which will convert words into dense vector representations. Configure this layer with:\n",
    "   > * `total_words` as the vocabulary size.\n",
    "   > * 100 as the embedding dimension.\n",
    "   > * `max_seq_len` as the `input_length` (this is the length of the slogans).\n",
    "\n",
    "3. Add the first LSTM layer. Configure it with:\n",
    "   > * 150 units.\n",
    "   > * Set `return_sequences` to `True` to ensure the layer outputs sequences for the next LSTM layer.\n",
    "\n",
    "4. Add the second LSTM layer which will process the output from the previous LSTM layer. Configure it with:\n",
    "   > * 100 units.\n",
    "   > * No need to set `return_sequences` here (it is the final LSTM layer).\n",
    "\n",
    "5. Add the dense output layer which will classify the data into industries. Configure it with:\n",
    "   > * The number of unique industries as the number of units.\n",
    "   > * The `softmax` activation function to get probabilities for each class (industry).\n",
    "\n",
    "6. Use `Sequential` to arrange all layers in the correct order and complete the architecture of the LSTM model called **class_model**.\n"
   ]
  },
  {
   "cell_type": "code",
   "execution_count": null,
   "metadata": {
    "id": "JIHaUMT4oC4Y"
   },
   "outputs": [],
   "source": []
  },
  {
   "cell_type": "markdown",
   "metadata": {
    "id": "SlMle0UzGzG_"
   },
   "source": [
    "In the code cell below, compile `class_model` using `categorical_crossentropy` loss, an Adam optimiser, and an appropriate metric of your choice."
   ]
  },
  {
   "cell_type": "code",
   "execution_count": null,
   "metadata": {
    "id": "ltBuXv3TGzPm"
   },
   "outputs": [],
   "source": []
  },
  {
   "cell_type": "markdown",
   "metadata": {
    "id": "4Zvuqmg2HA3e"
   },
   "source": [
    "## Slogan Classification & Evaluation\n",
    "\n",
    "In the code cell that follows, fit the compiled model on the inputs and outputs, setting **the number of epochs to 50**."
   ]
  },
  {
   "cell_type": "code",
   "execution_count": null,
   "metadata": {
    "id": "hZyjCegNHTrc"
   },
   "outputs": [],
   "source": []
  },
  {
   "cell_type": "markdown",
   "metadata": {
    "id": "oBNRUAsQHiv5"
   },
   "source": [
    "Evaluate the model using the testing set. Add a comment on the model's performance."
   ]
  },
  {
   "cell_type": "code",
   "execution_count": null,
   "metadata": {
    "id": "1eTsBN5cHi9a"
   },
   "outputs": [],
   "source": []
  },
  {
   "cell_type": "markdown",
   "metadata": {
    "id": "sHIdfP4tiYnt"
   },
   "source": [
    "We will now define a function called `classify_slogan` which takes a slogan as input and predicts the industry it belongs to using the trained model, `class_model`.  \n",
    "\n",
    "Carefully follow the code below and complete the missing parts (indicated by ellipses) as guided by the comments."
   ]
  },
  {
   "cell_type": "code",
   "execution_count": null,
   "metadata": {
    "id": "fNEmTt6piYvE"
   },
   "outputs": [],
   "source": [
    "def classify_slogan(slogan):\n",
    "    # Use the preprocess_text to clean the input slogan (we defined this function in the preprocessing section)\n",
    "    slogan = ...\n",
    "\n",
    "    # Converting the slogan to a sequence of indices\n",
    "    sequence = tokenizer.texts_to_sequences([slogan])\n",
    "\n",
    "    # Pad the sequence using the pad_sequences() function\n",
    "    padded_sequence = ...\n",
    "\n",
    "    # Pass padded_sequence into the class_model to get the predicted probabilities for each indistry\n",
    "    prediction = ...\n",
    "\n",
    "    # Use np.argmax() to get the index of the industry with the highest probability.\n",
    "    # Note: np.argmax() returns a NumPy array, specifically a one-element array in this context.\n",
    "    # Extract the single value from this array and assign it to predicted_index.\n",
    "    predicted_index = ...\n",
    "\n",
    "    # Return the predicted industry\n",
    "    return industries[predicted_index]"
   ]
  },
  {
   "cell_type": "markdown",
   "metadata": {
    "id": "RZbZQ-TNoDRj"
   },
   "source": [
    "## Combining the two models\n",
    "\n",
    "Run the code cell below to combine the two models: we will first generate a slogan for a company in the \"internet\" industry, then pass the generated slogan to the slogan classifier to see if it correctly classifies it as internet."
   ]
  },
  {
   "cell_type": "code",
   "execution_count": null,
   "metadata": {
    "id": "SMpjs0rFoILz"
   },
   "outputs": [],
   "source": [
    "industry = \"internet\"\n",
    "generated_slogan = generate_slogan(industry)\n",
    "predicted_industry = classify_slogan(generated_slogan)\n",
    "\n",
    "print(f\"Generated Slogan: {generated_slogan}\")\n",
    "print(f\"Predicted Industry: {predicted_industry}\")"
   ]
  },
  {
   "cell_type": "markdown",
   "metadata": {
    "id": "_niR0aS5zlQC"
   },
   "source": [
    "Compare the results and comment on any differences you notice between the generated slogans and the classifier’s predictions in the markdown cell below.\n"
   ]
  },
  {
   "cell_type": "markdown",
   "metadata": {
    "id": "R17KFEDLzlda"
   },
   "source": []
  }
 ],
 "metadata": {
  "colab": {
   "provenance": []
  },
  "kernelspec": {
   "display_name": "Python 3 (ipykernel)",
   "language": "python",
   "name": "python3"
  },
  "language_info": {
   "codemirror_mode": {
    "name": "ipython",
    "version": 3
   },
   "file_extension": ".py",
   "mimetype": "text/x-python",
   "name": "python",
   "nbconvert_exporter": "python",
   "pygments_lexer": "ipython3",
   "version": "3.10.5"
  }
 },
 "nbformat": 4,
 "nbformat_minor": 4
}
